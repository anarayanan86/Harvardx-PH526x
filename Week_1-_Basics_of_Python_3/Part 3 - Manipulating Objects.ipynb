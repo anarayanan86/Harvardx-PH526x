{
 "cells": [
  {
   "cell_type": "markdown",
   "metadata": {},
   "source": [
    "# CC 1.3.1: Dynamic Typing\n",
    "## Dynamic Typing: Question 1\n",
    "1/1 point (graded)\n",
    "\n",
    "Consider the following code:\n",
    "\n",
    "<code>x=3\n",
    "x</code> did not exist in memory prior to this code. Which of the following does not occur?\n",
    "\n",
    "The object 3 refers to the variable name x . correct"
   ]
  },
  {
   "cell_type": "markdown",
   "metadata": {},
   "source": [
    "## Dynamic Typing: Question 2\n",
    "0/1 point (graded)\n",
    "\n",
    "Consider the following code:\n",
    "\n",
    "<code>x=3 \n",
    "y=x \n",
    "y=y-1</code> \n",
    "What does <code>x</code> equal?\n",
    "\n",
    "3 correct\n",
    "\n",
    "### Explanation\n",
    "Because <code>3</code> \n",
    "is an immutable object, <code>y</code> \n",
    "must refer to a new object when reduced by 1, leaving the value of <code>x</code> unchanged."
   ]
  },
  {
   "cell_type": "markdown",
   "metadata": {},
   "source": [
    "## Dynamic Typing: Question 3\n",
    "1/1 point (graded)\n",
    "\n",
    "Consider the following code:\n",
    "\n",
    "<code>L1 = [2,3,4] \n",
    "L2 = L1 \n",
    "L2[0] = 24</code>\n",
    "\n",
    "What does <code>L1</code> equal?\n",
    "\n",
    "L2 correct"
   ]
  },
  {
   "cell_type": "markdown",
   "metadata": {},
   "source": [
    "## Dynamic Typing: Question 4\n",
    "1/1 point (graded)\n",
    "\n",
    "Consider the following code:\n",
    "\n",
    "<code>L = [2,3,4] \n",
    "M1 = L \n",
    "M2 = L[:] \n",
    "M1 is M2</code>\n",
    "\n",
    "What will this return?\n",
    "\n",
    "<code>False</code> correct"
   ]
  },
  {
   "cell_type": "markdown",
   "metadata": {},
   "source": [
    "# CC 1.3.2: Copies\n",
    "## Copies: Question 1\n",
    "1/1 point (graded)\n",
    "\n",
    "Consider the following code:\n",
    "\n",
    "<code>import copy \n",
    "x = [1,[2]] \n",
    "y = copy.copy(x) \n",
    "z = copy.deepcopy(x) \n",
    "y is z</code>\n",
    "\n",
    "What will this return?\n",
    "\n",
    "<code>False</code> correct"
   ]
  },
  {
   "cell_type": "markdown",
   "metadata": {},
   "source": [
    "# CC 1.3.3: Statements\n",
    "## Statements: Question 1\n",
    "1/1 point (graded)\n",
    "\n",
    "Consider the following code:\n",
    "\n",
    "<code>if False: \n",
    "    print(\"False!\") \n",
    "elif True: \n",
    "    print(\"Now True!\") \n",
    "else: \n",
    "    print(\"Finally True!\")</code>\n",
    "    \n",
    "What does this print?\n",
    "\n",
    "<code>\"Now True!\"</code> correct"
   ]
  },
  {
   "cell_type": "markdown",
   "metadata": {},
   "source": [
    "## Statements: Question 2\n",
    "1/1 point (graded)\n",
    "\n",
    "Consider the following code:\n",
    "\n",
    "<code>if n%2 == 0:\n",
    "  #blank#\n",
    "else:\n",
    "  print(\"odd\")</code>\n",
    "\n",
    "Assume that n is a previously defined integer. Can you replace the <code>#blank#</code> line so that the code prints <code>\"even\"</code> if <code>n</code> is even, and <code>\"odd\"</code> if n is odd?\n",
    "\n",
    "Enter your code here.\n",
    "\n",
    "<code>print(\"even\")</code>\n",
    "  correct  "
   ]
  },
  {
   "cell_type": "markdown",
   "metadata": {},
   "source": [
    "# CC 1.3.4: For and While Loops\n",
    "## For and While Loops: Question 1\n",
    "1/1 point (graded)\n",
    "\n",
    "Consider <code>bears = {\"Grizzly\":\"angry\", \"Brown\":\"friendly\", \"Polar\":\"friendly\"}</code>. Can you replace <code>#blank#</code> so the code will print a greeting only to friendly bears?\n",
    "\n",
    "<code>for bear in bears:\n",
    "  if #blank#:\n",
    "   print(\"Hello, \"+bear+\" bear!\")\n",
    "else:\n",
    "  print(\"odd\")</code>\n",
    "\n",
    "Enter your code here.\n",
    "\n",
    "<code>bears[bear] == \"friendly\"</code>\n",
    "  correct  "
   ]
  },
  {
   "cell_type": "markdown",
   "metadata": {},
   "source": [
    "## For and While Loops: Question 2\n",
    "1/1 point (graded)\n",
    "\n",
    "Consider the following code:\n",
    "\n",
    "<code>is_prime = True\n",
    "for i in range(2,n):\n",
    "   if n%i == 0:\n",
    "     #blank#\n",
    "print(is_prime)</code>\n",
    "\n",
    "Can you fill in the <code>#blank#</code> line so the code will only print True if <code>n</code> is prime?\n",
    "\n",
    "Enter your code here.\n",
    "\n",
    "<code>is_prime = False</code>\n",
    "  correct  "
   ]
  },
  {
   "cell_type": "markdown",
   "metadata": {},
   "source": [
    "## For and While Loops: Question 3\n",
    "1/1 point (graded)\n",
    "\n",
    "Consider the following code:\n",
    "\n",
    "<code>n=100\n",
    "number_of_times = 0\n",
    "while n >= 1:\n",
    "   n /= 2\n",
    "   number_of_times += 1\n",
    "print(number_of_times)</code>\n",
    "\n",
    "What will this print?\n",
    "\n",
    "Enter your numerical answer here.\n",
    "\n",
    "<code>7</code>\n",
    "  correct  "
   ]
  },
  {
   "cell_type": "markdown",
   "metadata": {},
   "source": [
    "# CC 1.3.5: List Comprehensions\n",
    "## List Comprehensions: Question 1\n",
    "1/1 point (graded)\n",
    "\n",
    "Consider the following code:\n",
    "\n",
    "<code>sum([i**2 for i in range(3)])</code>\n",
    "\n",
    "What will this output?\n",
    "\n",
    "5 correct"
   ]
  },
  {
   "cell_type": "markdown",
   "metadata": {},
   "source": [
    "## List Comprehensions: Question 2\n",
    "1/1 point (graded)\n",
    "\n",
    "How can you use a list comprehension, including <code>if</code> and <code>for</code>, to sum the odd numbers from <code>0</code> through <code>9</code>?\n",
    "\n",
    "Enter your code here.\n",
    "\n",
    "<code>sum([x for x in range(10) if x % 2 != 0])</code>\n",
    "  correct  "
   ]
  },
  {
   "cell_type": "markdown",
   "metadata": {},
   "source": [
    "# CC 1.3.6: Reading and Writing Files\n",
    "## Reading and Writing Files: Question 1\n",
    "1/1 point (graded)\n",
    "\n",
    "Consider the following code:\n",
    "\n",
    "<code>F = open(\"input.txt\", \"w\") \n",
    "F.write(\"Hello\\nWorld\") \n",
    "F.close() \n",
    "lines = [] \n",
    "for line in open(\"input.txt\"): \n",
    "    lines.append(line.strip()) \n",
    "print(lines)</code>\n",
    "\n",
    "What does this print?\n",
    "\n",
    "<code>['Hello', 'World']</code> correct"
   ]
  },
  {
   "cell_type": "markdown",
   "metadata": {},
   "source": [
    "# CC 1.3.7: Introduction to Functions\n",
    "## Introduction to Functions: Question 1\n",
    "1/1 point (graded)\n",
    "\n",
    "Consider the following function:\n",
    "\n",
    "<code>def modify(mylist): \n",
    "    mylist[0] *= 10 \n",
    "    return(mylist) \n",
    "L = [1, 3, 5, 7, 9] \n",
    "M = modify(L) \n",
    "M is L</code> \n",
    "\n",
    "What is the value of the final line?\n",
    "\n",
    "<code>True</code> correct"
   ]
  },
  {
   "cell_type": "markdown",
   "metadata": {},
   "source": [
    "# CC 1.3.8: Writing Simple Functions\n",
    "## Writing Simple Functions: Question 1\n",
    "1/1 point (graded)\n",
    "\n",
    "Consider the function <code>intersect()</code> defined in the previous video, 1.3.8: Writing Simple Functions. What will <code>intersect([1,2,3], [3,4,5,6,7])</code> return?\n",
    "\n",
    "<code>[3]</code> correct"
   ]
  },
  {
   "cell_type": "markdown",
   "metadata": {},
   "source": [
    "## Writing Simple Functions: Question 2\n",
    "1/1 point (graded)\n",
    "\n",
    "Consider the following code:\n",
    "\n",
    "<code>def is_vowel(letter):\n",
    "   if #blank#:\n",
    "     return(True)\n",
    "   else:\n",
    "     return(False)</code>\n",
    "\n",
    "Can you replace <code>#blank#</code> in the second line so <code>is_vowel</code> becomes a function that takes a letter as input and prints whether a letter is a vowel (in <code>\"aeiouy\"</code>)?\n",
    "\n",
    "Enter your code here.\n",
    "\n",
    "<code>letter in \"aeiouy\"</code>\n",
    "  correct  "
   ]
  },
  {
   "cell_type": "markdown",
   "metadata": {},
   "source": [
    "## Writing Simple Functions: Question 3\n",
    "1/1 point (graded)\n",
    "\n",
    "Consider the command <code>is_vowel(4)</code>. Why would this not work?\n",
    "\n",
    "<code>4</code> is not a <code>string</code>, and Python cannot test if an <code>int</code> is in a <code>string</code>. correct"
   ]
  },
  {
   "cell_type": "markdown",
   "metadata": {},
   "source": [
    "## Writing Simple Functions: Question 4\n",
    "1/1 point (graded)\n",
    "\n",
    "Consider the following proposed emendation of is_vowel :\n",
    "\n",
    "<code>def is_vowel(letter): \n",
    "    if type(letter) == int: \n",
    "        letter = str(letter) \n",
    "    if letter in \"aeiouy\": \n",
    "        return(True) \n",
    "    else: \n",
    "        return(False)</code>\n",
    "\n",
    "Does this properly accomodate objects of type <code>int</code> for use with <code>is_vowel</code>? For example, will <code>is_vowel(4)</code> produce a correct answer?\n",
    "\n",
    "Yes correct"
   ]
  },
  {
   "cell_type": "markdown",
   "metadata": {},
   "source": [
    "## Writing Simple Functions: Question 5\n",
    "1/1 point (graded)\n",
    "\n",
    "Recall that $n$! (\"$n$ factorial\") is defined as the product of all integers $1,...,n$. Additionally, by definition, $0!≡1$.\n",
    "\n",
    "Let's create a factorial function. Consider the following code:\n",
    "\n",
    "<code>def factorial(n):\n",
    "   if n == 0:\n",
    "     return 1\n",
    "   else:\n",
    "     N = 1\n",
    "     for i in range(1, n+1):\n",
    "     #blank#      \n",
    "     return(N)\n",
    "\n",
    "</code>Can you fill in the <code>#blank#</code> to complete the function as described above?\n",
    "\n",
    "Enter your code here.\n",
    "\n",
    "<code>N *= i</code>\n",
    "  correct  "
   ]
  },
  {
   "cell_type": "markdown",
   "metadata": {},
   "source": [
    "# CC 1.3.9: Common Mistakes and Errors\n",
    "## Common Mistakes and Errors: Question 1\n",
    "1/1 point (graded)\n",
    "\n",
    "Which of the following error messages was not presented in the video?\n",
    "\n",
    "<code>ValueError</code> correct"
   ]
  }
 ],
 "metadata": {
  "anaconda-cloud": {},
  "kernelspec": {
   "display_name": "Python [conda env:python3]",
   "language": "python",
   "name": "conda-env-python3-py"
  },
  "language_info": {
   "codemirror_mode": {
    "name": "ipython",
    "version": 3
   },
   "file_extension": ".py",
   "mimetype": "text/x-python",
   "name": "python",
   "nbconvert_exporter": "python",
   "pygments_lexer": "ipython3",
   "version": "3.5.2"
  }
 },
 "nbformat": 4,
 "nbformat_minor": 0
}
